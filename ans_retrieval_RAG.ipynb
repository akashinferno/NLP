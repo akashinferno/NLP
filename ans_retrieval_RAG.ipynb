{
  "nbformat": 4,
  "nbformat_minor": 0,
  "metadata": {
    "colab": {
      "provenance": [],
      "authorship_tag": "ABX9TyPK7ywUOAIYMq2GSpYr2yTg"
    },
    "kernelspec": {
      "name": "python3",
      "display_name": "Python 3"
    },
    "language_info": {
      "name": "python"
    }
  },
  "cells": [
    {
      "cell_type": "code",
      "source": [
        "!pip install streamlit"
      ],
      "metadata": {
        "id": "ynmt-YMP0Wct"
      },
      "execution_count": null,
      "outputs": []
    },
    {
      "cell_type": "code",
      "source": [
        "!pip install langchain langchain-community langchain-openai streamlit unstructured"
      ],
      "metadata": {
        "id": "obG_zYrr1BNt"
      },
      "execution_count": null,
      "outputs": []
    },
    {
      "cell_type": "code",
      "source": [
        "!pip install langchain langchain-community huggingface_hub\n"
      ],
      "metadata": {
        "id": "i7eeqmkH4CtW"
      },
      "execution_count": null,
      "outputs": []
    },
    {
      "cell_type": "code",
      "source": [
        "!pip install langchain-google-genai langchain"
      ],
      "metadata": {
        "id": "NQXn1afysTOJ"
      },
      "execution_count": null,
      "outputs": []
    },
    {
      "cell_type": "code",
      "source": [
        "!pip install faiss-cpu"
      ],
      "metadata": {
        "colab": {
          "base_uri": "https://localhost:8080/"
        },
        "id": "ucsw60ZexB3t",
        "outputId": "6f1605e4-5b32-4c35-9d90-f2d68095dadf"
      },
      "execution_count": 32,
      "outputs": [
        {
          "output_type": "stream",
          "name": "stdout",
          "text": [
            "Collecting faiss-cpu\n",
            "  Downloading faiss_cpu-1.12.0-cp312-cp312-manylinux_2_27_x86_64.manylinux_2_28_x86_64.whl.metadata (5.1 kB)\n",
            "Requirement already satisfied: numpy<3.0,>=1.25.0 in /usr/local/lib/python3.12/dist-packages (from faiss-cpu) (2.0.2)\n",
            "Requirement already satisfied: packaging in /usr/local/lib/python3.12/dist-packages (from faiss-cpu) (25.0)\n",
            "Downloading faiss_cpu-1.12.0-cp312-cp312-manylinux_2_27_x86_64.manylinux_2_28_x86_64.whl (31.4 MB)\n",
            "\u001b[2K   \u001b[90m━━━━━━━━━━━━━━━━━━━━━━━━━━━━━━━━━━━━━━━━\u001b[0m \u001b[32m31.4/31.4 MB\u001b[0m \u001b[31m57.2 MB/s\u001b[0m eta \u001b[36m0:00:00\u001b[0m\n",
            "\u001b[?25hInstalling collected packages: faiss-cpu\n",
            "Successfully installed faiss-cpu-1.12.0\n"
          ]
        }
      ]
    },
    {
      "cell_type": "code",
      "execution_count": 39,
      "metadata": {
        "id": "_6XfMcNMzbx8"
      },
      "outputs": [],
      "source": [
        "import os\n",
        "import streamlit as st\n",
        "import pickle\n",
        "import time\n",
        "import langchain\n",
        "# LLM\n",
        "from langchain_community.llms import HuggingFaceHub,HuggingFaceEndpoint\n",
        "from langchain_google_genai import ChatGoogleGenerativeAI\n",
        "\n",
        "# Chains\n",
        "from langchain.chains import RetrievalQAWithSourcesChain\n",
        "from langchain.chains.qa_with_sources.loading import load_qa_with_sources_chain\n",
        "\n",
        "# Text splitting\n",
        "from langchain.text_splitter import RecursiveCharacterTextSplitter\n",
        "\n",
        "# Document loading\n",
        "from langchain_community.document_loaders import UnstructuredURLLoader\n",
        "\n",
        "# Embeddings\n",
        "from langchain_openai import OpenAIEmbeddings\n",
        "\n",
        "# Vectorstore\n",
        "from langchain_community.vectorstores import FAISS\n"
      ]
    },
    {
      "cell_type": "code",
      "source": [
        "from google.colab import userdata\n",
        "hf_token = userdata.get('HUGGINGFACEHUB_API_TOKEN')"
      ],
      "metadata": {
        "id": "CvDwJsWI0Tcj"
      },
      "execution_count": 13,
      "outputs": []
    },
    {
      "cell_type": "code",
      "source": [
        "os.environ[\"HUGGINGFACEHUB_API_TOKEN\"]=hf_token\n",
        "os.environ[\"GOOGLE_API_KEY\"] = userdata.get('GOOGLE_API_KEY')\n"
      ],
      "metadata": {
        "id": "UpCfi1wx7xcf"
      },
      "execution_count": 14,
      "outputs": []
    },
    {
      "cell_type": "code",
      "source": [
        "llm = HuggingFaceHub(\n",
        "    repo_id=\"google/flan-t5-base\",\n",
        "    model_kwargs={\n",
        "        \"temperature\": 0.5,\n",
        "        \"max_length\": 128\n",
        "    },\n",
        "    task=\"text2text-generation\",\n",
        "    huggingfacehub_api_token=hf_token\n",
        ")\n",
        "\n",
        "response = llm.invoke(\"Tell me a fun fact about AI\")\n",
        "print(response)"
      ],
      "metadata": {
        "id": "dUOQJWpK4_0Q"
      },
      "execution_count": null,
      "outputs": []
    },
    {
      "cell_type": "code",
      "source": [
        "chat_model = ChatGoogleGenerativeAI(model=\"gemini-1.5-flash\")\n"
      ],
      "metadata": {
        "id": "oRAQ83yTs_PH"
      },
      "execution_count": 15,
      "outputs": []
    },
    {
      "cell_type": "code",
      "source": [
        "response = chat_model.invoke(\"Tell me a fun fact about AI\")\n",
        "print(response.content)"
      ],
      "metadata": {
        "colab": {
          "base_uri": "https://localhost:8080/"
        },
        "id": "MkEH_yq3tEWv",
        "outputId": "08a1df3d-7ae0-4679-f886-ed013c881837"
      },
      "execution_count": 17,
      "outputs": [
        {
          "output_type": "stream",
          "name": "stdout",
          "text": [
            "Some AI models are now so good at generating human-like text that they can even fool AI detectors designed to identify AI-generated content!  It's a bit of an AI arms race, with detectors constantly trying to catch up to the ever-evolving capabilities of AI text generators.\n"
          ]
        }
      ]
    },
    {
      "cell_type": "code",
      "source": [
        "#Loading Data\n",
        "\n",
        "loaders = UnstructuredURLLoader(urls=[\n",
        "    \"https://timesofindia.indiatimes.com/india/bengaluru-chinnaswamay-stadium-stampede-several-people-died-injured-rcb-victory-parade-karnataka-cm-siddaramaiah-latest-news/articleshow/121623434.cms\",\n",
        "    \"https://www.thehindu.com/news/national/rcb-ipl-victory-parade-stampede-death-toll-virat-kohli-chinnaswamy-stadium-live/article69656707.ece\"\n",
        "    ])\n",
        "data = loaders.load()\n",
        "len(data)"
      ],
      "metadata": {
        "colab": {
          "base_uri": "https://localhost:8080/"
        },
        "id": "53RNasZ7u64W",
        "outputId": "dc3d5592-3820-453a-f80d-9acb21c28ebc"
      },
      "execution_count": 22,
      "outputs": [
        {
          "output_type": "execute_result",
          "data": {
            "text/plain": [
              "2"
            ]
          },
          "metadata": {},
          "execution_count": 22
        }
      ]
    },
    {
      "cell_type": "code",
      "source": [
        "data[0]"
      ],
      "metadata": {
        "id": "D7aTMur5_u-5",
        "colab": {
          "base_uri": "https://localhost:8080/"
        },
        "outputId": "35a5d7a0-7ff8-4e8e-ee63-ea0af373f382"
      },
      "execution_count": 45,
      "outputs": [
        {
          "output_type": "execute_result",
          "data": {
            "text/plain": [
              "Document(metadata={'source': 'https://timesofindia.indiatimes.com/india/bengaluru-chinnaswamay-stadium-stampede-several-people-died-injured-rcb-victory-parade-karnataka-cm-siddaramaiah-latest-news/articleshow/121623434.cms'}, page_content='Edition\\n\\nIN\\n\\nIN\\n\\nUS\\n\\nEnglish\\n\\nEnglish\\n\\nहिन्दी\\n\\nमराठी\\n\\nಕನ್ನಡ\\n\\nதமிழ்\\n\\nবাংলা\\n\\nമലയാളം\\n\\nతెలుగు\\n\\nગુજરાતી\\n\\nTOI logo\\n\\nSign In\\n\\nTOI\\n\\nToday\\'s ePaper\\n\\nNews\\n\\nIndia News\\n\\nAt least 11 dead, 33 hurt in Bengaluru stampede during RCB victory parade; how chaos & tragedy unfolded\\n\\nTrending\\n\\nIndia A vs England Lions\\n\\nMusk vs Trump\\n\\nUPSE Prelims Result\\n\\nComedk UGET Toppers List\\n\\nBengaluru Stampede News\\n\\nNirjala Ekadashi\\n\\nIndia Pakistan News\\n\\nSanskrit Phrase on IPL Trophy\\n\\nIndia A vs England Lions\\n\\nMusk vs Trump\\n\\nUPSE Prelims Result\\n\\nComedk UGET Toppers List\\n\\nBengaluru Stampede News\\n\\nNirjala Ekadashi\\n\\nIndia Pakistan News\\n\\nSanskrit Phrase on IPL Trophy\\n\\nIndia A vs England Lions\\n\\nMusk vs Trump\\n\\nUPSE Prelims Result\\n\\nComedk UGET Toppers List\\n\\nBengaluru Stampede News\\n\\nNirjala Ekadashi\\n\\nIndia Pakistan News\\n\\nSanskrit Phrase on IPL Trophy\\n\\nAt least 11 dead, 33 hurt in Bengaluru stampede during RCB victory parade; how chaos & tragedy unfolded\\n\\nTOI News Desk / TIMESOFINDIA.COM / Updated: Jun 06, 2025, 13:13 IST\\n\\nShare\\n\\nAA\\n\\nText Size\\n\\nSmall\\n\\nMedium\\n\\nLarge\\n\\nA stampede at Bengaluru\\'s Chinnaswamy Stadium during RCB victory celebrations resulted in 11 fatalities and 33 injuries. Prime Minister Modi expressed his condolences, while chief minister Siddaramaiah announced compensation and ordered an inquiry. The massive crowd overwhelmed security, leading to chaos despite police presence, prompting criticism of the state government\\'s preparedness for the event.\\n\\nRCB Victory Parade: At least 8 Dead, Several Injured In Stampede Outside Bengaluru Stadium\\n\\nFootwears lie on the ground outside the Chinnaswamy Stadium following a stampede after a large number of fans gathered for the felicitation of IPL 2025 winning Royal Challengers Bengaluru team, in Bengaluru, Karnataka. (Pic credit: PTI)\\n\\nNEW DELHI: At least 11 people died and 33 others were injured as a stampede occurred at Chinnaswamy Stadium in Bengaluru after a large number of people gathered to participate in the RCB victory celebrations. Prime Minister Narendra Modi called the incident \"absolutely heartrending\" and prayed for the speedy recovery of the injured people. Karnataka chief minister Siddaramaiah held a press conference and announced Rs 10 lakh as compensation to the kin of those deceased. He also ordered a magisterial inquiry into the incident. How chaos & tragedy unfoldedWhat was meant to be a day of jubilation turned tragic as a massive crowd gathered to celebrate Royal Challengers Bengaluru’s (RCB) first-ever Indian Premier League (IPL) title win. Scattered shoes, broken sandals, and torn pieces of sports jerseys littered the area, marking the aftermath of the chaos that unfolded when crowds spiralled out of control.Lakhs of young fans had converged outside the stadium with \"RCB\" chanting. Many were seen climbing trees, scaling walls, and clinging to poles in a desperate attempt to catch a glimpse of their cricketing idols.As excitement peaked, the situation turned dangerous.\\n\\nPeople began to fall, some losing consciousness. Panic spread quickly as the jubilant cheers turned into screams for help. Emergency services rushed the injured to nearby hospitals. Even amid the unfolding tragedy, groups of young fans were seen sitting atop compound walls near Saint Mark\\'s Cathedral, cheering for RCB as sirens wailed and police tried to restore order.Despite a heavy deployment of police personnel, the sheer scale of the crowd overwhelmed security arrangements. Officials acknowledged they were heavily outnumbered by the surging masses.\\'Absolutely heartrending,\\' says PM Modi Prime Minister Narendra Modi described the stampede in Bengaluru as \"absolutely heartrending\". In a post on X, he said, \"The mishap in Bengaluru is absolutely heartrending. In this tragic hour, my thoughts are with all those who have lost their loved ones. I pray that those who are injured have a speedy recovery.\"\\n\\nPresident Droupadi Murmu also expressed deep sorrow over the loss of lives in a stampede and called the incident \\'shocking and heartbreaking\\'. In a social media post on X, Droupadi Murmu wrote, \"The loss of lives in the tragic happening at a stadium in Bengaluru is shocking and heartbreaking. My condolences to the bereaved families and prayers for the speedy recovery of the injured.\"\\n\\nCM Siddaramaiah on stampede Chief minister Siddaramaiah, while addressing a press conference gave details of the incident, saying that 11 lives were lost and 33 others were reported injured. He added that the stadium has capacity of hosting 35,000 people, but around two or three lakh people gathered to witness the event, and the crowd was unexpected. \"11 are dead and 33 injured due to stampede near Chinnaswamy Stadium in Bengaluru. More than 2-3 lakh people came, and no one expected this much crowd,\" Karnataka chief minister Siddaramaiah said at a press conference.Further, the CM said that he would not justify the mishap but drew comparisons with similar tragedies elsewhere, like in Kumbh Mela, as BJP criticised his government for the tragedy.\\n\\n\\'50-60 people died in Kumbh Mela, did I or Karnataka govt criticise?,\\' says CM\"Such incidents happened in so many places. I am not going to defend this by comparing it with them now by saying it happened here and there. In Kumbh Mela, 50-60 people died, I didn\\'t criticise it,\" he said.\"If Congress criticises, then that is a different matter. Did I or the Karnataka government criticise?\" CM Siddaramaiah said.BCCI on RCB celebrations leading to death of fansThe BCCI called the incident shocking adding that the organisers should have been better-prepared.\"It\\'s most unfortunate, organisers should have planned RCB\\'s IPL-winning celebrations better,\" BCCI secretary Devajit Saikia told PTI.\"When one organises a victory celebration of this magnitude, proper precautions and security measures need to be taken,\" he added.IPL chairman Arun Dhumal said, \"Whatever inquiry that needs to be done, the concerned authorities will do that. It was not a BCCI event. It is sad and tragic.\"\\n\\n\\'Fans thronged the venue\\'According to eyewitnesses, fans thronged the venue of felicitation. Visuals showed police shifting the injured persons and those who had fallen unconscious to ambulances.Cops were seen using mild force to manage the crowd outside stadium. They had a tough time in crowd management as a large number of cricket enthusiasts tried to gain entry, at the same time, into the stadium.According to a traffic advisory from the Bengaluru police, entry to Chinnaswamy Stadium was limited to only those with valid tickets and passes. \"As there is limited parking facility available near the Chinnaswamy Stadium, those who are attending the event are advised to use public transport and Metro. The public is requested to cooperate,\" it had said.Karnataka BJP President BY Vijayendra arrived at Bowring and Lady Curzon Hospital to meet the injured people. \\'They were more interested in publicity,\\' BJP slams state government over preparedness \"The state government should take full responsibility for this tragedy. When the whole country and Karnataka were celebrating RCB\\'s victory, the state government\\'s haste to hold a victory rally without any prior preparations led to this tragedy. The state government never cared about prior preparations. They were more interested in publicity. This resulted in the death of more than 11 people. Some people are in ICU. I spoke to some victims, there was no police inside, no ambulance facility. The CM should send the matter for judicial investigation,\" Vijayendra said. The IPL champions and several political leaders, including Karnataka chief minister Siddaramaiah marked their presence at the victory parade.Also read: Tragedy at RCB\\'s IPL 2025 victory parade: KSCA, franchise break silence on stamped\\n\\nauthor\\n\\nAbout the Author\\n\\nTOI News Desk\\n\\nThe TOI News Desk comprises a dedicated and tireless team of journalists who operate around the clock to deliver the most current and comprehensive news and updates to the readers of The Times of India worldwide. With an unwavering commitment to excellence in journalism, our team is at the forefront of gathering, verifying, and presenting breaking news, in-depth analysis, and insightful reports on a wide range of topics. The TOI News Desk is your trusted source for staying informed and connected to the ever-evolving global landscape, ensuring that our readers are equipped with the latest developments that matter most.\"\\n\\nEnd of Article\\n\\nFollow Us On Social Media\\n\\nVisual Stories\\n\\n\\n\\n10 off-beat Himalayan getaways for a serene escape\\n\\ntravel\\n\\n\\n\\n10 most beautiful and colourful birds in the wild jungles\\n\\nLifestyle\\n\\n\\n\\nFrance to Japan: 8 international beauty rituals to add to your skincare regime\\n\\nLifestyle\\n\\n\\n\\nHow to make Mutton Kali Mirch Curry for lunch\\n\\nFood\\n\\n\\n\\n10 beautiful snakes that are extremely poisonous\\n\\nLifestyle\\n\\n\\n\\nJasmin Bhasin’s top 10 stunning looks\\n\\ntv\\n\\n\\n\\nAnupama Parameswaran Looks Divine in Her Dreamy Saree Style\\n\\nEntertainment\\n\\n\\n\\n8 hill stations in India with tiger reserves nearby\\n\\ntravel\\n\\n\\n\\n10 foods that have more calcium than milk\\n\\nLifestyle\\n\\n\\n\\n5 Zodiac Signs Known for Their Incredible Luck\\n\\nastrology\\n\\nPhotostories\\n\\nHot Picks\\n\\nKerala Bakrid Holiday\\n\\nPinaki Misra\\n\\nAutopen\\n\\nITR e-filing\\n\\nBank Holiday\\n\\nCanada Immigration Bill\\n\\nRBI MPC Meeting\\n\\nTop Trending\\n\\nAllen Iverson\\n\\nCam Skattebo\\n\\nPM Modi\\n\\nNHL Trade Rumors\\n\\nMitch Marner\\n\\nWayne Gretzky Controversy\\n\\nSavannah James\\n\\nTyrese Haliburton\\n\\nThomas Fugate\\n\\nBilawal Bhutto\\n\\nTired of too many ads?go ad free now\\n\\nTrending Stories\\n\\nIn India\\n\\nEntire Website\\n\\n\\'Deep-rooted terror conspiracy\\': NIA charges Goldy Brar, 4 others in Gurugram club bombing case; probe on\\n\\n\\'Won\\'t equate perpetrators of evil with victims\\': Jaishankar reiterates stance on terrorism; thanks UK for condemning Pahalgam attack\\n\\n\\'Straight out of Soros’ playbook\\': BJP hits back at Rahul Gandhi over Maharashtra polls \\'rigged\\' claim; cites EC\\'s clarification\\n\\nUttarakhand CM Dhami directs officials to complete construction works on time\\n\\nCCPA protection directs E-Commerce platforms for self-audit within 3 months to detect Dark Patterns\\n\\nWant to cut your electricity bill this summer? Try this 24°C AC \\'hack\\'; how it works\\n\\nMorning news wrap: Canada PM says G7 summit invite to PM Modi \\'made sense,\\'; Tesla stock crash wipes out $380bn in 2025 & more\\n\\nAs per plan, Shubhanshu Shukla to dock with space station on June 11\\n\\n\\'Chenab & Anji Bridge are transformative projects\\': PM Modi hails infra push in J&K; watch top moments from his visit\\n\\n\\'Match-fixing will come to Bihar next\\': Rahul Gandhi attacks BJP over Maharashtra polls; alleges \\'rigging\\'\\n\\nIND A vs ENG Lions Live Score, 2nd Unofficial Test: KL Rahul\\'s classy hundred steers India A to strong position vs England Lions\\n\\nRCB win IPL 2025: Understanding the powerful Sanskrit phrase engraved on the IPL trophy\\n\\nComedk UGET 2025 toppers list: Shishir Shetty ranks 1; Karnataka students secure 4 of top 10 ranks\\n\\nAP inter supplementary results 2025 shortly at resultsbie.ap.gov.in; check how to download\\n\\nMother Teresa Women\\'s University announces semester results 2025 for various UG, PG. Ph.D. programmes; download here\\n\\n\"Not knowing Calvin is wild\": New York Giants rookie Cam Skattebo leaves NFL fans in disbelief after failing to recognize NFL legends in viral quiz\\n\\n“The true definition of a son” -NBA legend Allen Iverson shares heartfelt post on his son days after making sweet gesture towards ex-wife\\n\\n\\'Should do all it can\\': Pakistan delegation gets earful; US lawmaker tells Bilawal Bhutto to eliminate Jaish-e-Mohammad\\n\\n\\'Cricket was her passion, Virat Kohli was her hero, we grew up together,’ says distraught mother; mom\\'s last words to daughter\\n\\nWayne Gretzky sparks controversy by accusing Florida Panthers of buying success with tax loopholes\\n\\nTired of too many ads?go ad free now\\n\\nExplore Every Corner\\n\\nAcross The Globe\\n\\nG7 SummitCam SkatteboConnor McDavid WifeTesla StockAllen IversonIndia Tour of EnglandAP Inter Supply ResultWayne Gretzky ControversyAdam SilverLance StephensonKylie KelceSavannah JamesMuhammad YunusAaron JudgeKL RahulThomas FugateBengaluru StampedeBrittany MahomesSimla AgreementShedeur SanderIndia A vs England Lions LiveMichael BeasleyUPSC ResultAP inter supplementary resultsShaquille O\\'NealNBA Trade RumorsTravis KelceBank HolidaysBengaluru StampedeLebron James Wife\\n\\nAbout usCreate Your Own AdTerms of Use and Grievance Redressal Policy Privacy policyAdvertise with usRSSNewsletterFeedbackePaperSitemapArchives\\n\\nLiving and Entertainment\\n\\nCricbuzzLifestyleNewspaper SubscriptionFood NewsTVTimes PrimeTravel DestinationsWhats HotETimesTimes LifeTimes PetsMyLifeXP\\n\\nServices\\n\\nCouponDuniaTechGigTimesJobsBollywood NewsTimes MobileGadgetsWork with UsColombia\\n\\nHot on the Web\\n\\nShine Tom ChackoThug Life Box Office CollectionHousefull 5 ReviewHousefull 5Eid Mubarak WishesColon Cancer SymptomsEid Mubarak WishesMagnesium Deficiency SymptomsBakrid 2025Liver Detox SymptomsEid QuotesUric AcidReduce Blood SugarBowel Cancer SymptomsNational Parks IndiaEid Moon SightingLiver Cancer SymptomsSamantha Ruth PrabhuMuzammil IbrahimBaby Girl NamesSaudi Arabia VisaThug Life Box Office CollectionWatermelon Growing TipsBeautiful FishHina KhanWorld Colourful BirdsIntelligent Aquarium FishInflammatory Bowel DiseaseThe Great Indian Kapil Show 3Oral Cancer SymptomsImane KhelifYoga AsanasEid Al Adha Prayer TimingAnupam MittalHajj 2025Tim CookJeff BezosBiggest Anime ReleasesEminem Sues FacebookSasuke UchihaElon MuskOne Piece Season 2\\n\\nTrending Topics\\n\\nGabrielle UnionVirat KohliSanskrit Phrase on IPL trophyTOSS SSC resultsDonald Trump and Elon FeudMaharashtra fyjc merit listRussia Drone Missile AttackWWE Smackdown HighlightsBengaluru Chinnaswamy StampedeNITH ResultAnge PostecoglouMirwaiz Umar FarooqOperation SindoorG7 SummitAbhimanyu EaswaranLance StephensonCarlos AlcarazComedk UGET 2025 Toppers listUGC NET June 2025Bengaluru StampedeZach HymanAuston MatthewBank HolidayManny MachadoMahmoud KhalilMagnus CarlsenRoman ReignD GukeshHPSC Admit CardVikram SinghBaba Vanga PredictionsNyt Strands TodayGarena Free Fire MaxWordle TodayNYT Connections HintsWWDC 2025Elon MuskJeff BezosJensen HuangApple iPhone16Sam AltmanElon Musk Vs Donald Trump\\n\\nPopular Categories\\n\\nHeadlinesSports NewsBusiness NewsIndia NewsWorld NewsBollywood NewsHealth+ TipsIndian TV ShowsTechnologyTravelEtimesHealth & FitnessNFLMLCIndia vs EnglandAstrologyWeather TodayPlatinum Rate TodaySilver Rate TodayGold Rate TodayTOI GamesJune Bank HolidaysPublic Holidays in JuneStock Market HolidaysNSE HolidaysBSE HolidaysTechnology NewsInternational SportsPublic HolidaysBank Holidays\\n\\nLatest News\\n\\n\\'Deep-rooted terror conspiracy\\': NIA charges Goldy Brar, 4 others in Gurugram club bombing case; probe onFrom \\'Bigg Boss\\' to \\'Housefull 5\\': Here\\'s all you need to know about Soundarya Sharma who\\'s winning the internet!\\'I don\\'t want to live anymore\\': Pune techie dies by suicide from 21st floor, leaves heartbreaking noteDetained Columbia graduate claims \\'irreparable harm\\' to career and family as he pleads for releaseDark patterns alert: CCPA tells e-commerce platforms to self-audit for deceptive design practices; violators already under scannerIt’s a first! Infosys launches cash reward policy for employees who help with hiring; staff to earn Rs 700 per interviewWhy do some birds eat their own babies?The Most Auspicious Planetary Combinations for Each AscendantChopper crash-lands near Kedarnath; 4th helicopter mishap in 30 days on Char Dham routeBaseer Ali: I got to celebrate Eid with my family this time, which is wonderfulHow to use Photo mode in Mario Kart World?\\'Housefull 5\\' box office collection day 2 (Live): The multi-starrer film expected to see a jump on Saturday, may benefit from Eid holidaySparks fly one last time as ‘The summer I turned pretty’ returns for its final season this JulyArshi Khan: On Eid, since childhood, I’ve followed the ritual of putting Mehendi on my hands‘Promised to marry her’: 17-year-old girl strangled, stuffed in suitcase, dumped near Karnataka tracks; 8 arrested from BiharSaturn’s placement and what it says about your work ethic‘Non-veg food, liquor, loud music’: 5 cops suspended for partying at collector’s residence in Odisha; video shows officers dancing in uniform under influence of alcoholWorld’s most dangerous fish on Earth that you’d never want to encounter\\n\\nCopyright © 2025 Bennett, Coleman & Co. Ltd. All rights reserved. For reprint rights: Times Syndication Service\\n\\nFollow Us On')"
            ]
          },
          "metadata": {},
          "execution_count": 45
        }
      ]
    },
    {
      "cell_type": "code",
      "source": [
        "#(2) Split data to create chunks\n",
        "text_splitter = RecursiveCharacterTextSplitter(\n",
        "    chunk_size=1000,\n",
        "    chunk_overlap=200\n",
        ")\n",
        "\n",
        "# As data is of type documents we can directly use split_documents over split_text in order to get the chunks.\n",
        "docs = text_splitter.split_documents(data)"
      ],
      "metadata": {
        "id": "vFYgBxjTvWrF"
      },
      "execution_count": 24,
      "outputs": []
    },
    {
      "cell_type": "code",
      "source": [
        "len(docs)\n"
      ],
      "metadata": {
        "colab": {
          "base_uri": "https://localhost:8080/"
        },
        "id": "rAMPFdZ9wGL_",
        "outputId": "4e92f139-611b-476f-d2eb-62f70bbc50bf"
      },
      "execution_count": 26,
      "outputs": [
        {
          "output_type": "execute_result",
          "data": {
            "text/plain": [
              "81"
            ]
          },
          "metadata": {},
          "execution_count": 26
        }
      ]
    },
    {
      "cell_type": "code",
      "source": [
        "docs[0]"
      ],
      "metadata": {
        "colab": {
          "base_uri": "https://localhost:8080/"
        },
        "id": "wz6UUryOwI0A",
        "outputId": "ed3c2de3-64ab-45da-c4e9-2381b44c170a"
      },
      "execution_count": 28,
      "outputs": [
        {
          "output_type": "execute_result",
          "data": {
            "text/plain": [
              "Document(metadata={'source': 'https://timesofindia.indiatimes.com/india/bengaluru-chinnaswamay-stadium-stampede-several-people-died-injured-rcb-victory-parade-karnataka-cm-siddaramaiah-latest-news/articleshow/121623434.cms'}, page_content=\"Edition\\n\\nIN\\n\\nIN\\n\\nUS\\n\\nEnglish\\n\\nEnglish\\n\\nहिन्दी\\n\\nमराठी\\n\\nಕನ್ನಡ\\n\\nதமிழ்\\n\\nবাংলা\\n\\nമലയാളം\\n\\nతెలుగు\\n\\nગુજરાતી\\n\\nTOI logo\\n\\nSign In\\n\\nTOI\\n\\nToday's ePaper\\n\\nNews\\n\\nIndia News\\n\\nAt least 11 dead, 33 hurt in Bengaluru stampede during RCB victory parade; how chaos & tragedy unfolded\\n\\nTrending\\n\\nIndia A vs England Lions\\n\\nMusk vs Trump\\n\\nUPSE Prelims Result\\n\\nComedk UGET Toppers List\\n\\nBengaluru Stampede News\\n\\nNirjala Ekadashi\\n\\nIndia Pakistan News\\n\\nSanskrit Phrase on IPL Trophy\\n\\nIndia A vs England Lions\\n\\nMusk vs Trump\\n\\nUPSE Prelims Result\\n\\nComedk UGET Toppers List\\n\\nBengaluru Stampede News\\n\\nNirjala Ekadashi\\n\\nIndia Pakistan News\\n\\nSanskrit Phrase on IPL Trophy\\n\\nIndia A vs England Lions\\n\\nMusk vs Trump\\n\\nUPSE Prelims Result\\n\\nComedk UGET Toppers List\\n\\nBengaluru Stampede News\\n\\nNirjala Ekadashi\\n\\nIndia Pakistan News\\n\\nSanskrit Phrase on IPL Trophy\\n\\nAt least 11 dead, 33 hurt in Bengaluru stampede during RCB victory parade; how chaos & tragedy unfolded\\n\\nTOI News Desk / TIMESOFINDIA.COM / Updated: Jun 06, 2025, 13:13 IST\")"
            ]
          },
          "metadata": {},
          "execution_count": 28
        }
      ]
    },
    {
      "cell_type": "code",
      "source": [
        "from langchain_google_genai import GoogleGenerativeAIEmbeddings"
      ],
      "metadata": {
        "id": "sjfHW2fBw1i1"
      },
      "execution_count": 30,
      "outputs": []
    },
    {
      "cell_type": "code",
      "source": [
        "#  Create embeddings for these chunks and save them to FAISS index\n",
        "\n",
        "# Create the embeddings of the chunks using google embedding\n",
        "embeddings = GoogleGenerativeAIEmbeddings(model=\"models/embedding-001\")\n",
        "\n",
        "# Pass the documents and embeddings inorder to create FAISS vector index\n",
        "vectorindex_google = FAISS.from_documents(docs, embeddings)"
      ],
      "metadata": {
        "id": "uGiaxwMjwQEs"
      },
      "execution_count": 36,
      "outputs": []
    },
    {
      "cell_type": "code",
      "source": [
        "vectorindex_google"
      ],
      "metadata": {
        "colab": {
          "base_uri": "https://localhost:8080/"
        },
        "id": "mZoPnYofwjcQ",
        "outputId": "2f6deea7-b639-4765-ae3d-832a0666dce1"
      },
      "execution_count": 37,
      "outputs": [
        {
          "output_type": "execute_result",
          "data": {
            "text/plain": [
              "<langchain_community.vectorstores.faiss.FAISS at 0x7ad917066e40>"
            ]
          },
          "metadata": {},
          "execution_count": 37
        }
      ]
    },
    {
      "cell_type": "code",
      "source": [
        "chain = RetrievalQAWithSourcesChain.from_llm(llm=chat_model, retriever=vectorindex_google.as_retriever())"
      ],
      "metadata": {
        "id": "topCrkv_xJyh"
      },
      "execution_count": 41,
      "outputs": []
    },
    {
      "cell_type": "code",
      "source": [
        "query = \"What did the Prime Minister Narendra Modi tell about the RCB  Stampede issue\"\n",
        "# query = \"what are the main features of punch iCNG?\"\n",
        "\n",
        "langchain.debug=True\n",
        "\n",
        "chain({\"question\": query}, return_only_outputs=True)"
      ],
      "metadata": {
        "colab": {
          "base_uri": "https://localhost:8080/"
        },
        "id": "qAuSN9m9xh28",
        "outputId": "79bce760-17f9-4290-bc78-405bc66c6806"
      },
      "execution_count": 44,
      "outputs": [
        {
          "output_type": "stream",
          "name": "stdout",
          "text": [
            "\u001b[32;1m\u001b[1;3m[chain/start]\u001b[0m \u001b[1m[chain:RetrievalQAWithSourcesChain] Entering Chain run with input:\n",
            "\u001b[0m{\n",
            "  \"question\": \"What did the Prime Minister Narendra Modi tell about the RCB  Stampede issue\"\n",
            "}\n",
            "\u001b[32;1m\u001b[1;3m[chain/start]\u001b[0m \u001b[1m[chain:RetrievalQAWithSourcesChain > chain:MapReduceDocumentsChain] Entering Chain run with input:\n",
            "\u001b[0m[inputs]\n",
            "\u001b[32;1m\u001b[1;3m[chain/start]\u001b[0m \u001b[1m[chain:RetrievalQAWithSourcesChain > chain:MapReduceDocumentsChain > chain:LLMChain] Entering Chain run with input:\n",
            "\u001b[0m{\n",
            "  \"input_list\": [\n",
            "    {\n",
            "      \"context\": \"siddu.jpg\\n\\nCredit: X/CMO\\n\\nJune 04, 2025 19:46\\n\\nMishap in Bengaluru is absolutely heartrending: PM Modi\\n\\nJune 04, 2025 19:45\\n\\nGovt did stop roadshow in order to avoid stampede or any such situation: BCCI Vice-President\\n\\nJune 04, 2025 19:29\\n\\nLack of proper planning, govt must take full responsibility: H.D. Kumaraswamy\\n\\nJune 04, 2025 19:26\\n\\nRCB’s grand party to celebrate IPL triumph turns tragic due to crowd chaos\\n\\nChaotic celebrations turned into a full-blown tragedy as 10 people lost their lives and several others injured outside the Chinnswamy stadium while trying to join a party inside to honour Royal Challengers Bengaluru’s IPL triumph but the felicitations went ahead nonetheless.\\n\\nThere was a short speech from Virat Kohli, then Rajat Patidar came and spoke with the trophy alongside him. It was followed by a lap of honour around the stadium.\\n\\nJune 04, 2025 19:14\\n\\nDeeply saddened by the tragic stampede in Bengaluru: Mallikarjun Kharge\\n\\nJune 04, 2025 19:14\",\n",
            "      \"question\": \"What did the Prime Minister Narendra Modi tell about the RCB  Stampede issue\"\n",
            "    },\n",
            "    {\n",
            "      \"context\": \"Edition\\n\\nIN\\n\\nIN\\n\\nUS\\n\\nEnglish\\n\\nEnglish\\n\\nहिन्दी\\n\\nमराठी\\n\\nಕನ್ನಡ\\n\\nதமிழ்\\n\\nবাংলা\\n\\nമലയാളം\\n\\nతెలుగు\\n\\nગુજરાતી\\n\\nTOI logo\\n\\nSign In\\n\\nTOI\\n\\nToday's ePaper\\n\\nNews\\n\\nIndia News\\n\\nAt least 11 dead, 33 hurt in Bengaluru stampede during RCB victory parade; how chaos & tragedy unfolded\\n\\nTrending\\n\\nIndia A vs England Lions\\n\\nMusk vs Trump\\n\\nUPSE Prelims Result\\n\\nComedk UGET Toppers List\\n\\nBengaluru Stampede News\\n\\nNirjala Ekadashi\\n\\nIndia Pakistan News\\n\\nSanskrit Phrase on IPL Trophy\\n\\nIndia A vs England Lions\\n\\nMusk vs Trump\\n\\nUPSE Prelims Result\\n\\nComedk UGET Toppers List\\n\\nBengaluru Stampede News\\n\\nNirjala Ekadashi\\n\\nIndia Pakistan News\\n\\nSanskrit Phrase on IPL Trophy\\n\\nIndia A vs England Lions\\n\\nMusk vs Trump\\n\\nUPSE Prelims Result\\n\\nComedk UGET Toppers List\\n\\nBengaluru Stampede News\\n\\nNirjala Ekadashi\\n\\nIndia Pakistan News\\n\\nSanskrit Phrase on IPL Trophy\\n\\nAt least 11 dead, 33 hurt in Bengaluru stampede during RCB victory parade; how chaos & tragedy unfolded\\n\\nTOI News Desk / TIMESOFINDIA.COM / Updated: Jun 06, 2025, 13:13 IST\",\n",
            "      \"question\": \"What did the Prime Minister Narendra Modi tell about the RCB  Stampede issue\"\n",
            "    },\n",
            "    {\n",
            "      \"context\": \"PTI\\n\\nJune 04, 2025 22:36\\n\\nKarnataka Guv urges govt to probe lapses that led to stampede outside Chinnaswamy Stadium\\n\\nKarnataka Governor Thawaar Chand Gehlot on Wednesday urged the State government to thoroughly investigate the lapses that led to the tragic incident outside Chinnaswamy Stadium during the RCB victory celebrations.\\n\\nHe also asked the government to ensure suitable compensation and support for the families of the deceased.\\n\\nJune 04, 2025 22:22\\n\\nShocked and saddened by tragic Bengaluru stampede: TMC’s Abhishek Banerjee\\n\\nSenior TMC leader and MP Abhishek Banerjee on Wednesday expressed grief over the stampede outside Bengaluru’s M. Chinnaswamy Stadium, which claimed 11 lives and left more than 30 people injured.\",\n",
            "      \"question\": \"What did the Prime Minister Narendra Modi tell about the RCB  Stampede issue\"\n",
            "    },\n",
            "    {\n",
            "      \"context\": \"Except for six persons, who continue to be under treatment in various hospitals, all the others were sent home, doctors said on June 5.\\n\\nRead more here...\\n\\nJune 05, 2025 16:28\\n\\nKarnataka government admits before High Court lack of preparation to handle crowd of 2.5 lakh during RCB’s victory celebrations\\n\\nThe State government on Thursday (June 5, 2025) admitted before the High Court of Karnataka that it did not prepare to handle such a huge crowd of around 2.5 lakh on June 4 during the event organised at M. Chinnaswamy stadium in Bengaluru to celebrate RCB’s victory in the Indian Premier League (IPL) 2025, which ​​witnessed stampede resulting in death of 11 persons​​ and injuring 56 others. ​​\\n\\n\\n\\nBengaluru stampede: Karnataka government admits before High Court lack of preparation to handle crowd of 2.5 lakh\\n\\nState government admits lack of preparation for RCB victory celebration stampede, leading to 11 deaths and 56 injuries.\\n\\n​​\\n\\nJune 05, 2025 16:18\",\n",
            "      \"question\": \"What did the Prime Minister Narendra Modi tell about the RCB  Stampede issue\"\n",
            "    }\n",
            "  ]\n",
            "}\n",
            "\u001b[32;1m\u001b[1;3m[llm/start]\u001b[0m \u001b[1m[chain:RetrievalQAWithSourcesChain > chain:MapReduceDocumentsChain > chain:LLMChain > llm:ChatGoogleGenerativeAI] Entering LLM run with input:\n",
            "\u001b[0m{\n",
            "  \"prompts\": [\n",
            "    \"Human: Use the following portion of a long document to see if any of the text is relevant to answer the question.\\nReturn any relevant text verbatim.\\nsiddu.jpg\\n\\nCredit: X/CMO\\n\\nJune 04, 2025 19:46\\n\\nMishap in Bengaluru is absolutely heartrending: PM Modi\\n\\nJune 04, 2025 19:45\\n\\nGovt did stop roadshow in order to avoid stampede or any such situation: BCCI Vice-President\\n\\nJune 04, 2025 19:29\\n\\nLack of proper planning, govt must take full responsibility: H.D. Kumaraswamy\\n\\nJune 04, 2025 19:26\\n\\nRCB’s grand party to celebrate IPL triumph turns tragic due to crowd chaos\\n\\nChaotic celebrations turned into a full-blown tragedy as 10 people lost their lives and several others injured outside the Chinnswamy stadium while trying to join a party inside to honour Royal Challengers Bengaluru’s IPL triumph but the felicitations went ahead nonetheless.\\n\\nThere was a short speech from Virat Kohli, then Rajat Patidar came and spoke with the trophy alongside him. It was followed by a lap of honour around the stadium.\\n\\nJune 04, 2025 19:14\\n\\nDeeply saddened by the tragic stampede in Bengaluru: Mallikarjun Kharge\\n\\nJune 04, 2025 19:14\\nQuestion: What did the Prime Minister Narendra Modi tell about the RCB  Stampede issue\\nRelevant text, if any:\"\n",
            "  ]\n",
            "}\n",
            "\u001b[32;1m\u001b[1;3m[llm/start]\u001b[0m \u001b[1m[chain:RetrievalQAWithSourcesChain > chain:MapReduceDocumentsChain > chain:LLMChain > llm:ChatGoogleGenerativeAI] Entering LLM run with input:\n",
            "\u001b[0m{\n",
            "  \"prompts\": [\n",
            "    \"Human: Use the following portion of a long document to see if any of the text is relevant to answer the question.\\nReturn any relevant text verbatim.\\nEdition\\n\\nIN\\n\\nIN\\n\\nUS\\n\\nEnglish\\n\\nEnglish\\n\\nहिन्दी\\n\\nमराठी\\n\\nಕನ್ನಡ\\n\\nதமிழ்\\n\\nবাংলা\\n\\nമലയാളം\\n\\nతెలుగు\\n\\nગુજરાતી\\n\\nTOI logo\\n\\nSign In\\n\\nTOI\\n\\nToday's ePaper\\n\\nNews\\n\\nIndia News\\n\\nAt least 11 dead, 33 hurt in Bengaluru stampede during RCB victory parade; how chaos & tragedy unfolded\\n\\nTrending\\n\\nIndia A vs England Lions\\n\\nMusk vs Trump\\n\\nUPSE Prelims Result\\n\\nComedk UGET Toppers List\\n\\nBengaluru Stampede News\\n\\nNirjala Ekadashi\\n\\nIndia Pakistan News\\n\\nSanskrit Phrase on IPL Trophy\\n\\nIndia A vs England Lions\\n\\nMusk vs Trump\\n\\nUPSE Prelims Result\\n\\nComedk UGET Toppers List\\n\\nBengaluru Stampede News\\n\\nNirjala Ekadashi\\n\\nIndia Pakistan News\\n\\nSanskrit Phrase on IPL Trophy\\n\\nIndia A vs England Lions\\n\\nMusk vs Trump\\n\\nUPSE Prelims Result\\n\\nComedk UGET Toppers List\\n\\nBengaluru Stampede News\\n\\nNirjala Ekadashi\\n\\nIndia Pakistan News\\n\\nSanskrit Phrase on IPL Trophy\\n\\nAt least 11 dead, 33 hurt in Bengaluru stampede during RCB victory parade; how chaos & tragedy unfolded\\n\\nTOI News Desk / TIMESOFINDIA.COM / Updated: Jun 06, 2025, 13:13 IST\\nQuestion: What did the Prime Minister Narendra Modi tell about the RCB  Stampede issue\\nRelevant text, if any:\"\n",
            "  ]\n",
            "}\n",
            "\u001b[32;1m\u001b[1;3m[llm/start]\u001b[0m \u001b[1m[chain:RetrievalQAWithSourcesChain > chain:MapReduceDocumentsChain > chain:LLMChain > llm:ChatGoogleGenerativeAI] Entering LLM run with input:\n",
            "\u001b[0m{\n",
            "  \"prompts\": [\n",
            "    \"Human: Use the following portion of a long document to see if any of the text is relevant to answer the question.\\nReturn any relevant text verbatim.\\nPTI\\n\\nJune 04, 2025 22:36\\n\\nKarnataka Guv urges govt to probe lapses that led to stampede outside Chinnaswamy Stadium\\n\\nKarnataka Governor Thawaar Chand Gehlot on Wednesday urged the State government to thoroughly investigate the lapses that led to the tragic incident outside Chinnaswamy Stadium during the RCB victory celebrations.\\n\\nHe also asked the government to ensure suitable compensation and support for the families of the deceased.\\n\\nJune 04, 2025 22:22\\n\\nShocked and saddened by tragic Bengaluru stampede: TMC’s Abhishek Banerjee\\n\\nSenior TMC leader and MP Abhishek Banerjee on Wednesday expressed grief over the stampede outside Bengaluru’s M. Chinnaswamy Stadium, which claimed 11 lives and left more than 30 people injured.\\nQuestion: What did the Prime Minister Narendra Modi tell about the RCB  Stampede issue\\nRelevant text, if any:\"\n",
            "  ]\n",
            "}\n",
            "\u001b[32;1m\u001b[1;3m[llm/start]\u001b[0m \u001b[1m[chain:RetrievalQAWithSourcesChain > chain:MapReduceDocumentsChain > chain:LLMChain > llm:ChatGoogleGenerativeAI] Entering LLM run with input:\n",
            "\u001b[0m{\n",
            "  \"prompts\": [\n",
            "    \"Human: Use the following portion of a long document to see if any of the text is relevant to answer the question.\\nReturn any relevant text verbatim.\\nExcept for six persons, who continue to be under treatment in various hospitals, all the others were sent home, doctors said on June 5.\\n\\nRead more here...\\n\\nJune 05, 2025 16:28\\n\\nKarnataka government admits before High Court lack of preparation to handle crowd of 2.5 lakh during RCB’s victory celebrations\\n\\nThe State government on Thursday (June 5, 2025) admitted before the High Court of Karnataka that it did not prepare to handle such a huge crowd of around 2.5 lakh on June 4 during the event organised at M. Chinnaswamy stadium in Bengaluru to celebrate RCB’s victory in the Indian Premier League (IPL) 2025, which ​​witnessed stampede resulting in death of 11 persons​​ and injuring 56 others. ​​\\n\\n\\n\\nBengaluru stampede: Karnataka government admits before High Court lack of preparation to handle crowd of 2.5 lakh\\n\\nState government admits lack of preparation for RCB victory celebration stampede, leading to 11 deaths and 56 injuries.\\n\\n​​\\n\\nJune 05, 2025 16:18\\nQuestion: What did the Prime Minister Narendra Modi tell about the RCB  Stampede issue\\nRelevant text, if any:\"\n",
            "  ]\n",
            "}\n",
            "\u001b[36;1m\u001b[1;3m[llm/end]\u001b[0m \u001b[1m[chain:RetrievalQAWithSourcesChain > chain:MapReduceDocumentsChain > chain:LLMChain > llm:ChatGoogleGenerativeAI] [1.67s] Exiting LLM run with output:\n",
            "\u001b[0m{\n",
            "  \"generations\": [\n",
            "    [\n",
            "      {\n",
            "        \"text\": \"Mishap in Bengaluru is absolutely heartrending: PM Modi\",\n",
            "        \"generation_info\": {\n",
            "          \"finish_reason\": \"STOP\",\n",
            "          \"model_name\": \"gemini-1.5-flash\",\n",
            "          \"safety_ratings\": []\n",
            "        },\n",
            "        \"type\": \"ChatGeneration\",\n",
            "        \"message\": {\n",
            "          \"lc\": 1,\n",
            "          \"type\": \"constructor\",\n",
            "          \"id\": [\n",
            "            \"langchain\",\n",
            "            \"schema\",\n",
            "            \"messages\",\n",
            "            \"AIMessage\"\n",
            "          ],\n",
            "          \"kwargs\": {\n",
            "            \"content\": \"Mishap in Bengaluru is absolutely heartrending: PM Modi\",\n",
            "            \"response_metadata\": {\n",
            "              \"prompt_feedback\": {\n",
            "                \"block_reason\": 0,\n",
            "                \"safety_ratings\": []\n",
            "              },\n",
            "              \"finish_reason\": \"STOP\",\n",
            "              \"model_name\": \"gemini-1.5-flash\",\n",
            "              \"safety_ratings\": []\n",
            "            },\n",
            "            \"type\": \"ai\",\n",
            "            \"id\": \"run--3eec4928-16f3-4ac7-909e-25a908044021-0\",\n",
            "            \"usage_metadata\": {\n",
            "              \"input_tokens\": 348,\n",
            "              \"output_tokens\": 13,\n",
            "              \"total_tokens\": 361,\n",
            "              \"input_token_details\": {\n",
            "                \"cache_read\": 0\n",
            "              }\n",
            "            },\n",
            "            \"tool_calls\": [],\n",
            "            \"invalid_tool_calls\": []\n",
            "          }\n",
            "        }\n",
            "      }\n",
            "    ]\n",
            "  ],\n",
            "  \"llm_output\": {\n",
            "    \"prompt_feedback\": {\n",
            "      \"block_reason\": 0,\n",
            "      \"safety_ratings\": []\n",
            "    }\n",
            "  },\n",
            "  \"run\": null,\n",
            "  \"type\": \"LLMResult\"\n",
            "}\n",
            "\u001b[36;1m\u001b[1;3m[llm/end]\u001b[0m \u001b[1m[chain:RetrievalQAWithSourcesChain > chain:MapReduceDocumentsChain > chain:LLMChain > llm:ChatGoogleGenerativeAI] [1.67s] Exiting LLM run with output:\n",
            "\u001b[0m{\n",
            "  \"generations\": [\n",
            "    [\n",
            "      {\n",
            "        \"text\": \"There is no information provided in the given text about what Prime Minister Narendra Modi said regarding the RCB stampede.\",\n",
            "        \"generation_info\": {\n",
            "          \"finish_reason\": \"STOP\",\n",
            "          \"model_name\": \"gemini-1.5-flash\",\n",
            "          \"safety_ratings\": []\n",
            "        },\n",
            "        \"type\": \"ChatGeneration\",\n",
            "        \"message\": {\n",
            "          \"lc\": 1,\n",
            "          \"type\": \"constructor\",\n",
            "          \"id\": [\n",
            "            \"langchain\",\n",
            "            \"schema\",\n",
            "            \"messages\",\n",
            "            \"AIMessage\"\n",
            "          ],\n",
            "          \"kwargs\": {\n",
            "            \"content\": \"There is no information provided in the given text about what Prime Minister Narendra Modi said regarding the RCB stampede.\",\n",
            "            \"response_metadata\": {\n",
            "              \"prompt_feedback\": {\n",
            "                \"block_reason\": 0,\n",
            "                \"safety_ratings\": []\n",
            "              },\n",
            "              \"finish_reason\": \"STOP\",\n",
            "              \"model_name\": \"gemini-1.5-flash\",\n",
            "              \"safety_ratings\": []\n",
            "            },\n",
            "            \"type\": \"ai\",\n",
            "            \"id\": \"run--74553b0c-76f0-4e36-ae63-85830f4b11bd-0\",\n",
            "            \"usage_metadata\": {\n",
            "              \"input_tokens\": 354,\n",
            "              \"output_tokens\": 24,\n",
            "              \"total_tokens\": 378,\n",
            "              \"input_token_details\": {\n",
            "                \"cache_read\": 0\n",
            "              }\n",
            "            },\n",
            "            \"tool_calls\": [],\n",
            "            \"invalid_tool_calls\": []\n",
            "          }\n",
            "        }\n",
            "      }\n",
            "    ]\n",
            "  ],\n",
            "  \"llm_output\": {\n",
            "    \"prompt_feedback\": {\n",
            "      \"block_reason\": 0,\n",
            "      \"safety_ratings\": []\n",
            "    }\n",
            "  },\n",
            "  \"run\": null,\n",
            "  \"type\": \"LLMResult\"\n",
            "}\n",
            "\u001b[36;1m\u001b[1;3m[llm/end]\u001b[0m \u001b[1m[chain:RetrievalQAWithSourcesChain > chain:MapReduceDocumentsChain > chain:LLMChain > llm:ChatGoogleGenerativeAI] [1.67s] Exiting LLM run with output:\n",
            "\u001b[0m{\n",
            "  \"generations\": [\n",
            "    [\n",
            "      {\n",
            "        \"text\": \"There is no mention of Prime Minister Narendra Modi or his statements regarding the RCB stampede in the provided text.\",\n",
            "        \"generation_info\": {\n",
            "          \"finish_reason\": \"STOP\",\n",
            "          \"model_name\": \"gemini-1.5-flash\",\n",
            "          \"safety_ratings\": []\n",
            "        },\n",
            "        \"type\": \"ChatGeneration\",\n",
            "        \"message\": {\n",
            "          \"lc\": 1,\n",
            "          \"type\": \"constructor\",\n",
            "          \"id\": [\n",
            "            \"langchain\",\n",
            "            \"schema\",\n",
            "            \"messages\",\n",
            "            \"AIMessage\"\n",
            "          ],\n",
            "          \"kwargs\": {\n",
            "            \"content\": \"There is no mention of Prime Minister Narendra Modi or his statements regarding the RCB stampede in the provided text.\",\n",
            "            \"response_metadata\": {\n",
            "              \"prompt_feedback\": {\n",
            "                \"block_reason\": 0,\n",
            "                \"safety_ratings\": []\n",
            "              },\n",
            "              \"finish_reason\": \"STOP\",\n",
            "              \"model_name\": \"gemini-1.5-flash\",\n",
            "              \"safety_ratings\": []\n",
            "            },\n",
            "            \"type\": \"ai\",\n",
            "            \"id\": \"run--d84b5e29-34c4-4484-bc6b-db864707fbe1-0\",\n",
            "            \"usage_metadata\": {\n",
            "              \"input_tokens\": 230,\n",
            "              \"output_tokens\": 24,\n",
            "              \"total_tokens\": 254,\n",
            "              \"input_token_details\": {\n",
            "                \"cache_read\": 0\n",
            "              }\n",
            "            },\n",
            "            \"tool_calls\": [],\n",
            "            \"invalid_tool_calls\": []\n",
            "          }\n",
            "        }\n",
            "      }\n",
            "    ]\n",
            "  ],\n",
            "  \"llm_output\": {\n",
            "    \"prompt_feedback\": {\n",
            "      \"block_reason\": 0,\n",
            "      \"safety_ratings\": []\n",
            "    }\n",
            "  },\n",
            "  \"run\": null,\n",
            "  \"type\": \"LLMResult\"\n",
            "}\n",
            "\u001b[36;1m\u001b[1;3m[llm/end]\u001b[0m \u001b[1m[chain:RetrievalQAWithSourcesChain > chain:MapReduceDocumentsChain > chain:LLMChain > llm:ChatGoogleGenerativeAI] [1.67s] Exiting LLM run with output:\n",
            "\u001b[0m{\n",
            "  \"generations\": [\n",
            "    [\n",
            "      {\n",
            "        \"text\": \"There is no information in the provided text about what Prime Minister Narendra Modi said regarding the RCB stampede.\",\n",
            "        \"generation_info\": {\n",
            "          \"finish_reason\": \"STOP\",\n",
            "          \"model_name\": \"gemini-1.5-flash\",\n",
            "          \"safety_ratings\": []\n",
            "        },\n",
            "        \"type\": \"ChatGeneration\",\n",
            "        \"message\": {\n",
            "          \"lc\": 1,\n",
            "          \"type\": \"constructor\",\n",
            "          \"id\": [\n",
            "            \"langchain\",\n",
            "            \"schema\",\n",
            "            \"messages\",\n",
            "            \"AIMessage\"\n",
            "          ],\n",
            "          \"kwargs\": {\n",
            "            \"content\": \"There is no information in the provided text about what Prime Minister Narendra Modi said regarding the RCB stampede.\",\n",
            "            \"response_metadata\": {\n",
            "              \"prompt_feedback\": {\n",
            "                \"block_reason\": 0,\n",
            "                \"safety_ratings\": []\n",
            "              },\n",
            "              \"finish_reason\": \"STOP\",\n",
            "              \"model_name\": \"gemini-1.5-flash\",\n",
            "              \"safety_ratings\": []\n",
            "            },\n",
            "            \"type\": \"ai\",\n",
            "            \"id\": \"run--b92dba44-d4fa-41da-a5cd-ba2877355e82-0\",\n",
            "            \"usage_metadata\": {\n",
            "              \"input_tokens\": 308,\n",
            "              \"output_tokens\": 23,\n",
            "              \"total_tokens\": 331,\n",
            "              \"input_token_details\": {\n",
            "                \"cache_read\": 0\n",
            "              }\n",
            "            },\n",
            "            \"tool_calls\": [],\n",
            "            \"invalid_tool_calls\": []\n",
            "          }\n",
            "        }\n",
            "      }\n",
            "    ]\n",
            "  ],\n",
            "  \"llm_output\": {\n",
            "    \"prompt_feedback\": {\n",
            "      \"block_reason\": 0,\n",
            "      \"safety_ratings\": []\n",
            "    }\n",
            "  },\n",
            "  \"run\": null,\n",
            "  \"type\": \"LLMResult\"\n",
            "}\n",
            "\u001b[36;1m\u001b[1;3m[chain/end]\u001b[0m \u001b[1m[chain:RetrievalQAWithSourcesChain > chain:MapReduceDocumentsChain > chain:LLMChain] [1.67s] Exiting Chain run with output:\n",
            "\u001b[0m{\n",
            "  \"outputs\": [\n",
            "    {\n",
            "      \"text\": \"Mishap in Bengaluru is absolutely heartrending: PM Modi\"\n",
            "    },\n",
            "    {\n",
            "      \"text\": \"There is no information provided in the given text about what Prime Minister Narendra Modi said regarding the RCB stampede.\"\n",
            "    },\n",
            "    {\n",
            "      \"text\": \"There is no mention of Prime Minister Narendra Modi or his statements regarding the RCB stampede in the provided text.\"\n",
            "    },\n",
            "    {\n",
            "      \"text\": \"There is no information in the provided text about what Prime Minister Narendra Modi said regarding the RCB stampede.\"\n",
            "    }\n",
            "  ]\n",
            "}\n",
            "\u001b[32;1m\u001b[1;3m[chain/start]\u001b[0m \u001b[1m[chain:RetrievalQAWithSourcesChain > chain:MapReduceDocumentsChain > chain:LLMChain] Entering Chain run with input:\n",
            "\u001b[0m{\n",
            "  \"question\": \"What did the Prime Minister Narendra Modi tell about the RCB  Stampede issue\",\n",
            "  \"summaries\": \"Content: Mishap in Bengaluru is absolutely heartrending: PM Modi\\nSource: https://www.thehindu.com/news/national/rcb-ipl-victory-parade-stampede-death-toll-virat-kohli-chinnaswamy-stadium-live/article69656707.ece\\n\\nContent: There is no information provided in the given text about what Prime Minister Narendra Modi said regarding the RCB stampede.\\nSource: https://timesofindia.indiatimes.com/india/bengaluru-chinnaswamay-stadium-stampede-several-people-died-injured-rcb-victory-parade-karnataka-cm-siddaramaiah-latest-news/articleshow/121623434.cms\\n\\nContent: There is no mention of Prime Minister Narendra Modi or his statements regarding the RCB stampede in the provided text.\\nSource: https://www.thehindu.com/news/national/rcb-ipl-victory-parade-stampede-death-toll-virat-kohli-chinnaswamy-stadium-live/article69656707.ece\\n\\nContent: There is no information in the provided text about what Prime Minister Narendra Modi said regarding the RCB stampede.\\nSource: https://www.thehindu.com/news/national/rcb-ipl-victory-parade-stampede-death-toll-virat-kohli-chinnaswamy-stadium-live/article69656707.ece\"\n",
            "}\n",
            "\u001b[32;1m\u001b[1;3m[llm/start]\u001b[0m \u001b[1m[chain:RetrievalQAWithSourcesChain > chain:MapReduceDocumentsChain > chain:LLMChain > llm:ChatGoogleGenerativeAI] Entering LLM run with input:\n",
            "\u001b[0m{\n",
            "  \"prompts\": [\n",
            "    \"Human: Given the following extracted parts of a long document and a question, create a final answer with references (\\\"SOURCES\\\").\\nIf you don't know the answer, just say that you don't know. Don't try to make up an answer.\\nALWAYS return a \\\"SOURCES\\\" part in your answer.\\n\\nQUESTION: Which state/country's law governs the interpretation of the contract?\\n=========\\nContent: This Agreement is governed by English law and the parties submit to the exclusive jurisdiction of the English courts in  relation to any dispute (contractual or non-contractual) concerning this Agreement save that either party may apply to any court for an  injunction or other relief to protect its Intellectual Property Rights.\\nSource: 28-pl\\nContent: No Waiver. Failure or delay in exercising any right or remedy under this Agreement shall not constitute a waiver of such (or any other)  right or remedy.\\n\\n11.7 Severability. The invalidity, illegality or unenforceability of any term (or part of a term) of this Agreement shall not affect the continuation  in force of the remainder of the term (if any) and this Agreement.\\n\\n11.8 No Agency. Except as expressly stated otherwise, nothing in this Agreement shall create an agency, partnership or joint venture of any  kind between the parties.\\n\\n11.9 No Third-Party Beneficiaries.\\nSource: 30-pl\\nContent: (b) if Google believes, in good faith, that the Distributor has violated or caused Google to violate any Anti-Bribery Laws (as  defined in Clause 8.5) or that such a violation is reasonably likely to occur,\\nSource: 4-pl\\n=========\\nFINAL ANSWER: This Agreement is governed by English law.\\nSOURCES: 28-pl\\n\\nQUESTION: What did the president say about Michael Jackson?\\n=========\\nContent: Madam Speaker, Madam Vice President, our First Lady and Second Gentleman. Members of Congress and the Cabinet. Justices of the Supreme Court. My fellow Americans.  \\n\\nLast year COVID-19 kept us apart. This year we are finally together again. \\n\\nTonight, we meet as Democrats Republicans and Independents. But most importantly as Americans. \\n\\nWith a duty to one another to the American people to the Constitution. \\n\\nAnd with an unwavering resolve that freedom will always triumph over tyranny. \\n\\nSix days ago, Russia's Vladimir Putin sought to shake the foundations of the free world thinking he could make it bend to his menacing ways. But he badly miscalculated. \\n\\nHe thought he could roll into Ukraine and the world would roll over. Instead he met a wall of strength he never imagined. \\n\\nHe met the Ukrainian people. \\n\\nFrom President Zelenskyy to every Ukrainian, their fearlessness, their courage, their determination, inspires the world. \\n\\nGroups of citizens blocking tanks with their bodies. Everyone from students to retirees teachers turned soldiers defending their homeland.\\nSource: 0-pl\\nContent: And we won't stop. \\n\\nWe have lost so much to COVID-19. Time with one another. And worst of all, so much loss of life. \\n\\nLet's use this moment to reset. Let's stop looking at COVID-19 as a partisan dividing line and see it for what it is: A God-awful disease.  \\n\\nLet's stop seeing each other as enemies, and start seeing each other for who we really are: Fellow Americans.  \\n\\nWe can't change how divided we've been. But we can change how we move forward—on COVID-19 and other issues we must face together. \\n\\nI recently visited the New York City Police Department days after the funerals of Officer Wilbert Mora and his partner, Officer Jason Rivera. \\n\\nThey were responding to a 9-1-1 call when a man shot and killed them with a stolen gun. \\n\\nOfficer Mora was 27 years old. \\n\\nOfficer Rivera was 22. \\n\\nBoth Dominican Americans who'd grown up on the same streets they later chose to patrol as police officers. \\n\\nI spoke with their families and told them that we are forever in debt for their sacrifice, and we will carry on their mission to restore the trust and safety every community deserves.\\nSource: 24-pl\\nContent: And a proud Ukrainian people, who have known 30 years  of independence, have repeatedly shown that they will not tolerate anyone who tries to take their country backwards.  \\n\\nTo all Americans, I will be honest with you, as I've always promised. A Russian dictator, invading a foreign country, has costs around the world. \\n\\nAnd I'm taking robust action to make sure the pain of our sanctions  is targeted at Russia's economy. And I will use every tool at our disposal to protect American businesses and consumers. \\n\\nTonight, I can announce that the United States has worked with 30 other countries to release 60 Million barrels of oil from reserves around the world.  \\n\\nAmerica will lead that effort, releasing 30 Million barrels from our own Strategic Petroleum Reserve. And we stand ready to do more if necessary, unified with our allies.  \\n\\nThese steps will help blunt gas prices here at home. And I know the news about what's happening can seem alarming. \\n\\nBut I want you to know that we are going to be okay.\\nSource: 5-pl\\nContent: More support for patients and families. \\n\\nTo get there, I call on Congress to fund ARPA-H, the Advanced Research Projects Agency for Health. \\n\\nIt's based on DARPA—the Defense Department project that led to the Internet, GPS, and so much more.  \\n\\nARPA-H will have a singular purpose—to drive breakthroughs in cancer, Alzheimer's, diabetes, and more. \\n\\nA unity agenda for the nation. \\n\\nWe can do this. \\n\\nMy fellow Americans—tonight , we have gathered in a sacred space—the citadel of our democracy. \\n\\nIn this Capitol, generation after generation, Americans have debated great questions amid great strife, and have done great things. \\n\\nWe have fought for freedom, expanded liberty, defeated totalitarianism and terror. \\n\\nAnd built the strongest, freest, and most prosperous nation the world has ever known. \\n\\nNow is the hour. \\n\\nOur moment of responsibility. \\n\\nOur test of resolve and conscience, of history itself. \\n\\nIt is in this moment that our character is formed. Our purpose is found. Our future is forged. \\n\\nWell I know this nation.\\nSource: 34-pl\\n=========\\nFINAL ANSWER: The president did not mention Michael Jackson.\\nSOURCES:\\n\\nQUESTION: What did the Prime Minister Narendra Modi tell about the RCB  Stampede issue\\n=========\\nContent: Mishap in Bengaluru is absolutely heartrending: PM Modi\\nSource: https://www.thehindu.com/news/national/rcb-ipl-victory-parade-stampede-death-toll-virat-kohli-chinnaswamy-stadium-live/article69656707.ece\\n\\nContent: There is no information provided in the given text about what Prime Minister Narendra Modi said regarding the RCB stampede.\\nSource: https://timesofindia.indiatimes.com/india/bengaluru-chinnaswamay-stadium-stampede-several-people-died-injured-rcb-victory-parade-karnataka-cm-siddaramaiah-latest-news/articleshow/121623434.cms\\n\\nContent: There is no mention of Prime Minister Narendra Modi or his statements regarding the RCB stampede in the provided text.\\nSource: https://www.thehindu.com/news/national/rcb-ipl-victory-parade-stampede-death-toll-virat-kohli-chinnaswamy-stadium-live/article69656707.ece\\n\\nContent: There is no information in the provided text about what Prime Minister Narendra Modi said regarding the RCB stampede.\\nSource: https://www.thehindu.com/news/national/rcb-ipl-victory-parade-stampede-death-toll-virat-kohli-chinnaswamy-stadium-live/article69656707.ece\\n=========\\nFINAL ANSWER:\"\n",
            "  ]\n",
            "}\n",
            "\u001b[36;1m\u001b[1;3m[llm/end]\u001b[0m \u001b[1m[chain:RetrievalQAWithSourcesChain > chain:MapReduceDocumentsChain > chain:LLMChain > llm:ChatGoogleGenerativeAI] [1.10s] Exiting LLM run with output:\n",
            "\u001b[0m{\n",
            "  \"generations\": [\n",
            "    [\n",
            "      {\n",
            "        \"text\": \"The provided text states that Prime Minister Modi described the Bengaluru mishap as \\\"absolutely heartrending\\\".  However,  the provided sources do not offer further details on his statement about the RCB stampede.\\n\\nSOURCES: https://www.thehindu.com/news/national/rcb-ipl-victory-parade-stampede-death-toll-virat-kohli-chinnaswamy-stadium-live/article69656707.ece\",\n",
            "        \"generation_info\": {\n",
            "          \"finish_reason\": \"STOP\",\n",
            "          \"model_name\": \"gemini-1.5-flash\",\n",
            "          \"safety_ratings\": []\n",
            "        },\n",
            "        \"type\": \"ChatGeneration\",\n",
            "        \"message\": {\n",
            "          \"lc\": 1,\n",
            "          \"type\": \"constructor\",\n",
            "          \"id\": [\n",
            "            \"langchain\",\n",
            "            \"schema\",\n",
            "            \"messages\",\n",
            "            \"AIMessage\"\n",
            "          ],\n",
            "          \"kwargs\": {\n",
            "            \"content\": \"The provided text states that Prime Minister Modi described the Bengaluru mishap as \\\"absolutely heartrending\\\".  However,  the provided sources do not offer further details on his statement about the RCB stampede.\\n\\nSOURCES: https://www.thehindu.com/news/national/rcb-ipl-victory-parade-stampede-death-toll-virat-kohli-chinnaswamy-stadium-live/article69656707.ece\",\n",
            "            \"response_metadata\": {\n",
            "              \"prompt_feedback\": {\n",
            "                \"block_reason\": 0,\n",
            "                \"safety_ratings\": []\n",
            "              },\n",
            "              \"finish_reason\": \"STOP\",\n",
            "              \"model_name\": \"gemini-1.5-flash\",\n",
            "              \"safety_ratings\": []\n",
            "            },\n",
            "            \"type\": \"ai\",\n",
            "            \"id\": \"run--b74dd1c7-59a8-40ec-8007-5bf723a52cf7-0\",\n",
            "            \"usage_metadata\": {\n",
            "              \"input_tokens\": 1783,\n",
            "              \"output_tokens\": 101,\n",
            "              \"total_tokens\": 1884,\n",
            "              \"input_token_details\": {\n",
            "                \"cache_read\": 0\n",
            "              }\n",
            "            },\n",
            "            \"tool_calls\": [],\n",
            "            \"invalid_tool_calls\": []\n",
            "          }\n",
            "        }\n",
            "      }\n",
            "    ]\n",
            "  ],\n",
            "  \"llm_output\": {\n",
            "    \"prompt_feedback\": {\n",
            "      \"block_reason\": 0,\n",
            "      \"safety_ratings\": []\n",
            "    }\n",
            "  },\n",
            "  \"run\": null,\n",
            "  \"type\": \"LLMResult\"\n",
            "}\n",
            "\u001b[36;1m\u001b[1;3m[chain/end]\u001b[0m \u001b[1m[chain:RetrievalQAWithSourcesChain > chain:MapReduceDocumentsChain > chain:LLMChain] [1.11s] Exiting Chain run with output:\n",
            "\u001b[0m{\n",
            "  \"text\": \"The provided text states that Prime Minister Modi described the Bengaluru mishap as \\\"absolutely heartrending\\\".  However,  the provided sources do not offer further details on his statement about the RCB stampede.\\n\\nSOURCES: https://www.thehindu.com/news/national/rcb-ipl-victory-parade-stampede-death-toll-virat-kohli-chinnaswamy-stadium-live/article69656707.ece\"\n",
            "}\n",
            "\u001b[36;1m\u001b[1;3m[chain/end]\u001b[0m \u001b[1m[chain:RetrievalQAWithSourcesChain > chain:MapReduceDocumentsChain] [2.84s] Exiting Chain run with output:\n",
            "\u001b[0m{\n",
            "  \"output_text\": \"The provided text states that Prime Minister Modi described the Bengaluru mishap as \\\"absolutely heartrending\\\".  However,  the provided sources do not offer further details on his statement about the RCB stampede.\\n\\nSOURCES: https://www.thehindu.com/news/national/rcb-ipl-victory-parade-stampede-death-toll-virat-kohli-chinnaswamy-stadium-live/article69656707.ece\"\n",
            "}\n",
            "\u001b[36;1m\u001b[1;3m[chain/end]\u001b[0m \u001b[1m[chain:RetrievalQAWithSourcesChain] [3.18s] Exiting Chain run with output:\n",
            "\u001b[0m{\n",
            "  \"answer\": \"The provided text states that Prime Minister Modi described the Bengaluru mishap as \\\"absolutely heartrending\\\".  However,  the provided sources do not offer further details on his statement about the RCB stampede.\\n\\n\",\n",
            "  \"sources\": \"https://www.thehindu.com/news/national/rcb-ipl-victory-parade-stampede-death-toll-virat-kohli-chinnaswamy-stadium-live/article69656707.ece\"\n",
            "}\n"
          ]
        },
        {
          "output_type": "execute_result",
          "data": {
            "text/plain": [
              "{'answer': 'The provided text states that Prime Minister Modi described the Bengaluru mishap as \"absolutely heartrending\".  However,  the provided sources do not offer further details on his statement about the RCB stampede.\\n\\n',\n",
              " 'sources': 'https://www.thehindu.com/news/national/rcb-ipl-victory-parade-stampede-death-toll-virat-kohli-chinnaswamy-stadium-live/article69656707.ece'}"
            ]
          },
          "metadata": {},
          "execution_count": 44
        }
      ]
    },
    {
      "cell_type": "code",
      "source": [],
      "metadata": {
        "id": "Eule8ldkyED0"
      },
      "execution_count": null,
      "outputs": []
    }
  ]
}